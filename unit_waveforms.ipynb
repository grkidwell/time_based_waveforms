{
  "nbformat": 4,
  "nbformat_minor": 0,
  "metadata": {
    "colab": {
      "name": "unit_waveforms.ipynb",
      "provenance": [],
      "collapsed_sections": [],
      "include_colab_link": true
    },
    "kernelspec": {
      "name": "python3",
      "display_name": "Python 3"
    }
  },
  "cells": [
    {
      "cell_type": "markdown",
      "metadata": {
        "id": "view-in-github",
        "colab_type": "text"
      },
      "source": [
        "<a href=\"https://colab.research.google.com/github/grkidwell/time_based_waveforms/blob/master/unit_waveforms.ipynb\" target=\"_parent\"><img src=\"https://colab.research.google.com/assets/colab-badge.svg\" alt=\"Open In Colab\"/></a>"
      ]
    },
    {
      "cell_type": "markdown",
      "metadata": {
        "id": "_ttL1E6cGryK",
        "colab_type": "text"
      },
      "source": [
        "# Unit Waveforms"
      ]
    },
    {
      "cell_type": "markdown",
      "metadata": {
        "id": "AjgQ6-xYG2P2",
        "colab_type": "text"
      },
      "source": [
        "### Libraries"
      ]
    },
    {
      "cell_type": "code",
      "metadata": {
        "id": "szlzYgrBGof3",
        "colab_type": "code",
        "colab": {}
      },
      "source": [
        "import matplotlib.pyplot as plt\n",
        "import numpy as np"
      ],
      "execution_count": 0,
      "outputs": []
    },
    {
      "cell_type": "markdown",
      "metadata": {
        "id": "8mLPYntrG6U2",
        "colab_type": "text"
      },
      "source": [
        "### Classes"
      ]
    },
    {
      "cell_type": "code",
      "metadata": {
        "id": "fTKkegbSGGMR",
        "colab_type": "code",
        "colab": {}
      },
      "source": [
        "class Three_state:\n",
        "    \n",
        "    def __init__(self,t1,t2,t3=0):\n",
        "      \n",
        "        self.t1,self.t2,self.t3 = t1,t2,t3\n",
        "        self.Ts = self.t1+self.t2+self.t3\n",
        "    \n",
        "    def step(self,t):\n",
        "        if t<0:\n",
        "            kd=0.0\n",
        "        elif t==0:\n",
        "            kd=0.0\n",
        "        else:\n",
        "            kd=1.0\n",
        "        return kd\n",
        "            \n",
        "    def t1_unit_pulse(self,t):\n",
        "        if t<0:\n",
        "            k=1.0\n",
        "        else:\n",
        "            k=self.step(self.t1-t)\n",
        "        return k\n",
        "      \n",
        "    def t3_unit_pulse(self,t):\n",
        "        return self.step(t-self.t1-self.t2)\n",
        "      \n",
        "    def t2_unit_pulse(self,t):\n",
        "        return 1-self.t1_unit_pulse(t)-self.t3_unit_pulse(t)\n",
        "    \n",
        "    \n",
        "    def repeating(self,t):\n",
        "        period=self.Ts\n",
        "        return t-(t//period)*period"
      ],
      "execution_count": 0,
      "outputs": []
    },
    {
      "cell_type": "markdown",
      "metadata": {
        "id": "v6cywuxZHe_N",
        "colab_type": "text"
      },
      "source": [
        "### Input parameters"
      ]
    },
    {
      "cell_type": "code",
      "metadata": {
        "id": "XZ5MIvbHHi9s",
        "colab_type": "code",
        "colab": {}
      },
      "source": [
        "Vin = 12\n",
        "Vout = 6\n",
        "fs = 0.5e6\n",
        "\n",
        "duty = Vout/Vin\n",
        "Ts = 1/fs\n",
        "t1=duty*Ts\n",
        "t2=(1-duty)*Ts\n",
        "\n",
        "numdatapoints=1000  \n",
        "numcycles = 10\n",
        "tstep = np.round(numcycles*Ts/numdatapoints,10)"
      ],
      "execution_count": 0,
      "outputs": []
    },
    {
      "cell_type": "markdown",
      "metadata": {
        "id": "DDQ25zlrHxE2",
        "colab_type": "text"
      },
      "source": [
        "### Create single pulse sequence"
      ]
    },
    {
      "cell_type": "code",
      "metadata": {
        "id": "Gc_YFFo_H0mw",
        "colab_type": "code",
        "colab": {
          "base_uri": "https://localhost:8080/",
          "height": 231
        },
        "outputId": "fe732e90-944d-4374-87ac-c3869273543b"
      },
      "source": [
        "tarray=np.arange(0,Ts,tstep, dtype=float)\n",
        "tarray_nperiod=np.arange(0,numcycles*Ts,tstep, dtype=float)\n",
        "\n",
        "\n",
        "singlecycleobject=Three_state(t1=t1,t2=t2)\n",
        "t1singlecycle=np.vectorize(singlecycleobject.t1_unit_pulse)\n",
        "t2singlecycle=np.vectorize(singlecycleobject.t2_unit_pulse)\n",
        "\n",
        "\n",
        "\n",
        "\n",
        "f = plt.figure(figsize=(10,3))\n",
        "ax = f.add_subplot(121)\n",
        "ax2 = f.add_subplot(122)\n",
        "ax.plot(tarray*1e6,t1singlecycle(tarray), 'b')\n",
        "ax2.plot(tarray*1e6,t2singlecycle(tarray), 'r')"
      ],
      "execution_count": 27,
      "outputs": [
        {
          "output_type": "execute_result",
          "data": {
            "text/plain": [
              "[<matplotlib.lines.Line2D at 0x7fc0160a2978>]"
            ]
          },
          "metadata": {
            "tags": []
          },
          "execution_count": 27
        },
        {
          "output_type": "display_data",
          "data": {
            "image/png": "[encoded data removed]",
            "text/plain": [
              "<Figure size 720x216 with 2 Axes>"
            ]
          },
          "metadata": {
            "tags": []
          }
        }
      ]
    },
    {
      "cell_type": "markdown",
      "metadata": {
        "id": "Rnz6zLngH1A_",
        "colab_type": "text"
      },
      "source": [
        "### Create multi pulse sequence"
      ]
    },
    {
      "cell_type": "code",
      "metadata": {
        "id": "amxPZdRNH4Pr",
        "colab_type": "code",
        "colab": {}
      },
      "source": [
        "t1multicycle=t1singlecycle(singlecycleobject.repeating(tarray_nperiod))\n",
        "t2multicycle=t2singlecycle(singlecycleobject.repeating(tarray_nperiod))\n"
      ],
      "execution_count": 0,
      "outputs": []
    },
    {
      "cell_type": "markdown",
      "metadata": {
        "id": "nnfS4MujHjbm",
        "colab_type": "text"
      },
      "source": [
        "### Results"
      ]
    },
    {
      "cell_type": "code",
      "metadata": {
        "id": "uZDs0SibHlzT",
        "colab_type": "code",
        "colab": {
          "base_uri": "https://localhost:8080/",
          "height": 231
        },
        "outputId": "d20aba61-9be4-4f59-a52b-ce3e6cacea48"
      },
      "source": [
        "f = plt.figure(figsize=(10,3))\n",
        "ax = f.add_subplot(121)\n",
        "ax2 = f.add_subplot(122)\n",
        "ax.plot(tarray_nperiod*1e6,t1multicycle, 'b')\n",
        "ax2.plot(tarray_nperiod*1e6,t2multicycle, 'r')\n"
      ],
      "execution_count": 33,
      "outputs": [
        {
          "output_type": "execute_result",
          "data": {
            "text/plain": [
              "[<matplotlib.lines.Line2D at 0x7fc015e09a20>]"
            ]
          },
          "metadata": {
            "tags": []
          },
          "execution_count": 33
        },
        {
          "output_type": "display_data",
          "data": {
            "image/png": "[encoded data removed]",
            "text/plain": [
              "<Figure size 720x216 with 2 Axes>"
            ]
          },
          "metadata": {
            "tags": []
          }
        }
      ]
    },
    {
      "cell_type": "code",
      "metadata": {
        "id": "sMkOgKaih9Xl",
        "colab_type": "code",
        "colab": {}
      },
      "source": [
        ""
      ],
      "execution_count": 0,
      "outputs": []
    }
  ]
}
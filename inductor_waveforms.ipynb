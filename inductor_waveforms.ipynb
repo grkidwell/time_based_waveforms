{
  "nbformat": 4,
  "nbformat_minor": 0,
  "metadata": {
    "colab": {
      "name": "inductor_waveforms.ipynb",
      "provenance": [],
      "collapsed_sections": [],
      "include_colab_link": true
    },
    "kernelspec": {
      "name": "python3",
      "display_name": "Python 3"
    }
  },
  "cells": [
    {
      "cell_type": "markdown",
      "metadata": {
        "id": "view-in-github",
        "colab_type": "text"
      },
      "source": [
        "<a href=\"https://colab.research.google.com/github/grkidwell/time_based_waveforms/blob/master/inductor_waveforms.ipynb\" target=\"_parent\"><img src=\"https://colab.research.google.com/assets/colab-badge.svg\" alt=\"Open In Colab\"/></a>"
      ]
    },
    {
      "cell_type": "markdown",
      "metadata": {
        "id": "_ttL1E6cGryK",
        "colab_type": "text"
      },
      "source": [
        "# Inductor Waveforms"
      ]
    },
    {
      "cell_type": "markdown",
      "metadata": {
        "id": "AjgQ6-xYG2P2",
        "colab_type": "text"
      },
      "source": [
        "### Libraries"
      ]
    },
    {
      "cell_type": "code",
      "metadata": {
        "id": "szlzYgrBGof3",
        "colab_type": "code",
        "colab": {}
      },
      "source": [
        "import matplotlib.pyplot as plt\n",
        "import numpy as np\n",
        "import sys"
      ],
      "execution_count": 0,
      "outputs": []
    },
    {
      "cell_type": "code",
      "metadata": {
        "id": "cMOmnksD2QIr",
        "colab_type": "code",
        "colab": {
          "base_uri": "https://localhost:8080/",
          "height": 136
        },
        "outputId": "88916593-8ca6-4ed6-9fae-2841a169fa37"
      },
      "source": [
        "!rm -r time_based_waveforms\n",
        "!git clone https://github.com/grkidwell/time_based_waveforms.git\n",
        "sys.path.append('time_based_waveforms')"
      ],
      "execution_count": 2,
      "outputs": [
        {
          "output_type": "stream",
          "text": [
            "rm: cannot remove 'time_based_waveforms': No such file or directory\n",
            "Cloning into 'time_based_waveforms'...\n",
            "remote: Enumerating objects: 11, done.\u001b[K\n",
            "remote: Counting objects: 100% (11/11), done.\u001b[K\n",
            "remote: Compressing objects: 100% (11/11), done.\u001b[K\n",
            "remote: Total 11 (delta 2), reused 0 (delta 0), pack-reused 0\u001b[K\n",
            "Unpacking objects: 100% (11/11), done.\n"
          ],
          "name": "stdout"
        }
      ]
    },
    {
      "cell_type": "code",
      "metadata": {
        "id": "TdPpsZ_72ktw",
        "colab_type": "code",
        "colab": {}
      },
      "source": [
        "from unit_waveforms import Three_state"
      ],
      "execution_count": 0,
      "outputs": []
    },
    {
      "cell_type": "markdown",
      "metadata": {
        "id": "8mLPYntrG6U2",
        "colab_type": "text"
      },
      "source": [
        "### Classes"
      ]
    },
    {
      "cell_type": "code",
      "metadata": {
        "id": "fTKkegbSGGMR",
        "colab_type": "code",
        "colab": {}
      },
      "source": [
        "class Inductor_current:\n",
        "    \n",
        "    def __init__(self,delta_t,vin,vout,idc,lout,t):\n",
        "      \n",
        "        self.delta_t=delta_t  #dictionary of time windows for each state\n",
        "        self.t1 = self.delta_t['state1']\n",
        "        self.t2 = self.delta_t['state2']\n",
        "        self.Ts = sum(self.delta_t.values())\n",
        "        self.vin=vin\n",
        "        self.vout=vout\n",
        "        self.idc=idc\n",
        "        self.lout=lout\n",
        "        \n",
        "        self.k_object = Three_state(self.delta_t['state1'], self.delta_t['state2'])\n",
        "        self.t=self.k_object.repeating(t)\n",
        "        \n",
        "        self.slope={\"state1\":(self.vin-self.vout)/self.lout, \n",
        "                    \"state2\":-self.vout/self.lout}\n",
        "        self.delta_i=self.dxd(self.slope,self.delta_t)\n",
        "        self.imin = self.idc-self.delta_i['state1']/2\n",
        "        \n",
        "        self.current=self.calculatecurrent()\n",
        "        \n",
        "    def confirm_voltsec_balance(self):\n",
        "        return sum([self.slope[state]*self.delta_t[state] for state in  self.delta_t])\n",
        "        \n",
        "    def istart(self):\n",
        "        return {'state1':self.imin,\n",
        "                'state2':self.imin+self.delta_i['state1']}  \n",
        "      \n",
        "    def unit_pulse(self):       \n",
        "        return {'state1': self.k_object.t1_unit_pulse(self.t),\n",
        "                'state2': self.k_object.t2_unit_pulse(self.t)}\n",
        "      \n",
        "    def t_offset(self):\n",
        "        return {'state1':0, 'state2':self.delta_t['state1']}\n",
        "      \n",
        "    def calculatecurrent(self):\n",
        "        return sum([(self.istart()[state]+self.slope[state]*(self.t - self.t_offset()[state]))*self.unit_pulse()[state] for state in self.delta_t.keys()])\n",
        "    \n",
        "    def dxd(self,d1,d2):  #multiply the values of 2 dictionaries by key\n",
        "        return {key: d1[key]*d2[key] for key in d1.keys()}\n",
        "      \n",
        "\n"
      ],
      "execution_count": 0,
      "outputs": []
    },
    {
      "cell_type": "markdown",
      "metadata": {
        "id": "v6cywuxZHe_N",
        "colab_type": "text"
      },
      "source": [
        "### Input parameters"
      ]
    },
    {
      "cell_type": "code",
      "metadata": {
        "id": "XZ5MIvbHHi9s",
        "colab_type": "code",
        "colab": {}
      },
      "source": [
        "Vin = 12\n",
        "Vout = 8.8\n",
        "iout = 10\n",
        "fs = 0.777e6\n",
        "Lout = 2.2e-6\n",
        "\n",
        "duty = Vout/Vin\n",
        "Ts = 1/fs\n",
        "time_states={\"state1\":duty*Ts, \"state2\":(1-duty)*Ts}"
      ],
      "execution_count": 0,
      "outputs": []
    },
    {
      "cell_type": "code",
      "metadata": {
        "id": "Z5uFzeUE18aI",
        "colab_type": "code",
        "colab": {}
      },
      "source": [
        "def iLout(t):\n",
        "    return Inductor_current(delta_t=time_states,vin=Vin,vout=Vout,idc=iout,lout=Lout,t=t).current"
      ],
      "execution_count": 0,
      "outputs": []
    },
    {
      "cell_type": "markdown",
      "metadata": {
        "id": "DDQ25zlrHxE2",
        "colab_type": "text"
      },
      "source": [
        "### Create single and multi pulse sequences"
      ]
    },
    {
      "cell_type": "code",
      "metadata": {
        "id": "Gc_YFFo_H0mw",
        "colab_type": "code",
        "colab": {}
      },
      "source": [
        "numdatapoints=1000  \n",
        "numcycles = 4\n",
        "tstep = np.round(numcycles*Ts/numdatapoints,10)\n",
        "\n",
        "tarray=np.arange(0,Ts,tstep, dtype=float)\n",
        "tarray_nperiod=np.arange(0,numcycles*Ts,tstep, dtype=float)\n",
        "\n",
        "iLout_singlecycle=np.vectorize(iLout)(tarray)\n",
        "iLout_multicycle=np.vectorize(iLout)(tarray_nperiod)\n"
      ],
      "execution_count": 0,
      "outputs": []
    },
    {
      "cell_type": "markdown",
      "metadata": {
        "id": "nnfS4MujHjbm",
        "colab_type": "text"
      },
      "source": [
        "### Plots"
      ]
    },
    {
      "cell_type": "code",
      "metadata": {
        "id": "uZDs0SibHlzT",
        "colab_type": "code",
        "outputId": "30022842-3d65-49fb-ceea-d3428be22b4a",
        "colab": {
          "base_uri": "https://localhost:8080/",
          "height": 231
        }
      },
      "source": [
        "f = plt.figure(figsize=(10,3))\n",
        "ax = f.add_subplot(121)\n",
        "ax2 = f.add_subplot(122)\n",
        "ax.plot(tarray*1e6,iLout_singlecycle, 'b')\n",
        "ax2.plot(tarray_nperiod*1e6,iLout_multicycle, 'r')"
      ],
      "execution_count": 8,
      "outputs": [
        {
          "output_type": "execute_result",
          "data": {
            "text/plain": [
              "[<matplotlib.lines.Line2D at 0x7f043f027898>]"
            ]
          },
          "metadata": {
            "tags": []
          },
          "execution_count": 8
        },
        {
          "output_type": "display_data",
          "data": {
            "image/png": "[encoded data removed]",
            "text/plain": [
              "<Figure size 720x216 with 2 Axes>"
            ]
          },
          "metadata": {
            "tags": []
          }
        }
      ]
    },
    {
      "cell_type": "code",
      "metadata": {
        "id": "sMkOgKaih9Xl",
        "colab_type": "code",
        "colab": {}
      },
      "source": [
        ""
      ],
      "execution_count": 0,
      "outputs": []
    }
  ]
}